{
  "nbformat": 4,
  "nbformat_minor": 0,
  "metadata": {
    "colab": {
      "provenance": []
    },
    "kernelspec": {
      "name": "python3",
      "display_name": "Python 3"
    },
    "language_info": {
      "name": "python"
    }
  },
  "cells": [
    {
      "cell_type": "code",
      "execution_count": 210,
      "metadata": {
        "id": "3wT8n_FHSjsR"
      },
      "outputs": [],
      "source": [
        "import pandas as pd\n",
        "import numpy as np\n",
        "from datetime import datetime\n",
        "from sklearn.preprocessing import StandardScaler\n",
        "from sklearn.model_selection import train_test_split\n",
        "from sklearn.utils.class_weight import compute_class_weight\n",
        "import torch\n",
        "import torch.nn as nn\n",
        "import torch.optim as optim\n",
        "from torch.utils.data import Dataset, DataLoader\n",
        "from imblearn.over_sampling import SMOTE\n",
        "from sklearn.preprocessing import LabelEncoder\n",
        "import xgboost as xgb\n",
        "from sklearn.ensemble import RandomForestClassifier  # (for prediction if XGBoost not preferred)\n",
        "from sklearn.metrics import classification_report, accuracy_score\n",
        "from sklearn.cluster import KMeans\n",
        "import geopandas as gpd  # For maps\n",
        "import matplotlib.pyplot as plt  # For visualization\n",
        "from shapely.geometry import Point  # for creating point geometry"
      ]
    },
    {
      "cell_type": "code",
      "source": [
        "# Load the dataset\n",
        "df = pd.read_csv('Crime Data.csv')\n",
        "df.dropna(inplace = True)\n",
        "columns_to_remove = ['CASE#', 'BLOCK', ' IUCR', ' SECONDARY DESCRIPTION', ' LOCATION DESCRIPTION', 'ARREST', 'DOMESTIC', 'BEAT', 'WARD', 'FBI CD', 'X COORDINATE', 'Y COORDINATE', 'LOCATION']\n",
        "df.drop(columns=columns_to_remove, inplace=True)\n",
        "# Display the first few rows\n",
        "print(df.columns)"
      ],
      "metadata": {
        "colab": {
          "base_uri": "https://localhost:8080/"
        },
        "id": "j2Joc-qUwaEJ",
        "outputId": "8ca5b471-2d62-450b-9a40-ad37104795d7"
      },
      "execution_count": 211,
      "outputs": [
        {
          "output_type": "stream",
          "name": "stdout",
          "text": [
            "Index(['DATE  OF OCCURRENCE', ' PRIMARY DESCRIPTION', 'LATITUDE', 'LONGITUDE'], dtype='object')\n"
          ]
        }
      ]
    },
    {
      "cell_type": "code",
      "source": [
        "# Get the top 3 frequent crimes\n",
        "\n",
        "top_3_crimes = df[' PRIMARY DESCRIPTION'].value_counts().nlargest(3).index.tolist()\n",
        "\n",
        "print(\"Top 3 Crimes:\", top_3_crimes)"
      ],
      "metadata": {
        "colab": {
          "base_uri": "https://localhost:8080/"
        },
        "id": "zmFIYfZ0ECAA",
        "outputId": "9dce666f-64f8-4790-bcbb-a1f652e976d9"
      },
      "execution_count": 212,
      "outputs": [
        {
          "output_type": "stream",
          "name": "stdout",
          "text": [
            "Top 3 Crimes: ['THEFT', 'BATTERY', 'CRIMINAL DAMAGE']\n"
          ]
        }
      ]
    },
    {
      "cell_type": "code",
      "source": [
        "crime_types = df[' PRIMARY DESCRIPTION'].unique()\n",
        "\n",
        "# Print the crime types\n",
        "print(\"Unique Crime Types:\")\n",
        "print(crime_types)"
      ],
      "metadata": {
        "colab": {
          "base_uri": "https://localhost:8080/"
        },
        "id": "EzK5AYofygad",
        "outputId": "00c3ecab-538d-4502-f548-a218cd34086a"
      },
      "execution_count": 213,
      "outputs": [
        {
          "output_type": "stream",
          "name": "stdout",
          "text": [
            "Unique Crime Types:\n",
            "['HOMICIDE' 'OTHER OFFENSE' 'THEFT' 'BATTERY' 'ASSAULT'\n",
            " 'DECEPTIVE PRACTICE' 'CRIMINAL DAMAGE' 'WEAPONS VIOLATION' 'ROBBERY'\n",
            " 'MOTOR VEHICLE THEFT' 'CRIMINAL TRESPASS' 'NARCOTICS' 'SEX OFFENSE'\n",
            " 'CONCEALED CARRY LICENSE VIOLATION' 'CRIMINAL SEXUAL ASSAULT' 'BURGLARY'\n",
            " 'OFFENSE INVOLVING CHILDREN' 'INTERFERENCE WITH PUBLIC OFFICER'\n",
            " 'PUBLIC PEACE VIOLATION' 'PROSTITUTION' 'INTIMIDATION' 'STALKING'\n",
            " 'LIQUOR LAW VIOLATION' 'GAMBLING' 'KIDNAPPING' 'ARSON' 'OBSCENITY'\n",
            " 'HUMAN TRAFFICKING' 'PUBLIC INDECENCY' 'OTHER NARCOTIC VIOLATION'\n",
            " 'NON-CRIMINAL']\n"
          ]
        }
      ]
    },
    {
      "cell_type": "code",
      "source": [
        "crime_to_group = {\n",
        "    \"THEFT\": \"Patrol & Response\",\n",
        "    \"BATTERY\": \"Violent Crimes\",\n",
        "    \"CRIMINAL DAMAGE\": \"Investigations\",\n",
        "    \"ASSAULT\": \"Patrol & Response\",\n",
        "    \"DECEPTIVE PRACTICE\": \"Investigations\",\n",
        "    \"OTHER OFFENSE\": \"Patrol & Response\",\n",
        "    \"NARCOTICS\": \"Vice & Narcotics\",\n",
        "    \"BURGLARY\": \"Patrol & Response\",\n",
        "    \"ROBBERY\": \"Violent Crimes\",\n",
        "    \"MOTOR VEHICLE THEFT\": \"Patrol & Response\",\n",
        "    \"CRIMINAL TRESPASS\": \"Patrol & Response\",\n",
        "    \"WEAPONS VIOLATION\": \"Violent Crimes\",\n",
        "    \"OFFENSE INVOLVING CHILDREN\": \"Investigations\",\n",
        "    \"PUBLIC PEACE VIOLATION\": \"Patrol & Response\",\n",
        "    \"CRIM SEXUAL ASSAULT\": \"Violent Crimes\",\n",
        "    \"SEX OFFENSE\": \"Investigations\",\n",
        "    \"INTERFERENCE WITH PUBLIC OFFICER\": \"Patrol & Response\",\n",
        "    \"PROSTITUTION\": \"Vice & Narcotics\",\n",
        "    \"LIQUOR LAW VIOLATION\": \"Patrol & Response\",\n",
        "    \"ARSON\": \"Arson & Explosives\",\n",
        "    \"CRIMINAL SEXUAL ABUSE\": \"Investigations\",\n",
        "    \"STALKING\": \"Investigations\",\n",
        "    \"KIDNAPPING\": \"Violent Crimes\",\n",
        "    \"INTIMIDATION\": \"Investigations\",\n",
        "    \"HOMICIDE\": \"Violent Crimes\",\n",
        "    \"CONCEALED CARRY LICENSE VIOLATION\": \"Investigations\",\n",
        "    \"OBSCENITY\": \"Investigations\",\n",
        "    \"NON-CRIMINAL\": \"Patrol & Response\",\n",
        "    \"OTHER NARCOTIC VIOLATION\": \"Vice & Narcotics\",\n",
        "    \"HUMAN TRAFFICKING\": \"Investigations\",\n",
        "    \"PUBLIC INDECENCY\": \"Patrol & Response\",\n",
        "    \"GAMBLING\": \"Vice & Narcotics\",\n",
        "    \"CRIMINAL SEXUAL ASSAULT\" : \"Violent Crimes\"\n",
        "}\n",
        "df['Police_Group'] = df[' PRIMARY DESCRIPTION'].map(crime_to_group)\n"
      ],
      "metadata": {
        "id": "Eonu3AQhxvJo"
      },
      "execution_count": 214,
      "outputs": []
    },
    {
      "cell_type": "code",
      "source": [
        "# Function to parse date with multiple formats\n",
        "def parse_date(date_str):\n",
        "    for fmt in ('%m/%d/%Y %I:%M:%S %p', '%m-%d-%Y %H:%M'):\n",
        "        try:\n",
        "            return datetime.strptime(date_str, fmt)\n",
        "        except ValueError:\n",
        "            continue\n",
        "    return pd.NaT  # Return Not-a-Time if parsing fails\n",
        "\n",
        "# Apply the parsing function\n",
        "df['parsed_date'] = df['DATE  OF OCCURRENCE'].apply(parse_date)\n",
        "\n",
        "# Drop rows with unparsed dates\n",
        "df = df.dropna(subset=['parsed_date']).reset_index(drop=True)\n",
        "\n",
        "# Extract temporal features\n",
        "df['hour'] = df['parsed_date'].dt.hour\n",
        "df['day'] = df['parsed_date'].dt.day\n",
        "df['month'] = df['parsed_date'].dt.month\n",
        "df['day_of_week'] = df['parsed_date'].dt.dayofweek  # Monday=0, Sunday=6"
      ],
      "metadata": {
        "id": "B9-VAdONx9eg"
      },
      "execution_count": 215,
      "outputs": []
    },
    {
      "cell_type": "code",
      "source": [
        "def feature_engineering(df):\n",
        "    # Time of day\n",
        "    df['time_of_day'] = pd.cut(df['hour'], bins=[0, 6, 12, 18, 24], labels=['night', 'morning', 'afternoon', 'evening'], right=False, include_lowest=True)\n",
        "    df = pd.get_dummies(df, columns=['time_of_day'], prefix='tod', drop_first=True)\n",
        "\n",
        "    df['weekend'] = df['day_of_week'].isin([5, 6]).astype(int)\n",
        "    df['month_sin'] = np.sin(2 * np.pi * df['month'] / 12)\n",
        "    df['month_cos'] = np.cos(2 * np.pi * df['month'] / 12)\n",
        "\n",
        "    us_holidays = holidays.US()\n",
        "    df['is_holiday'] = df['parsed_date'].dt.normalize().isin(us_holidays).astype(int)\n",
        "    df['day_of_year'] = df['parsed_date'].dt.dayofyear\n",
        "\n",
        "    season_map = {1: 'winter', 2: 'winter', 3: 'spring', 4: 'spring', 5: 'spring', 6: 'summer', 7: 'summer', 8: 'summer', 9: 'fall', 10: 'fall', 11: 'fall', 12: 'winter'}\n",
        "    df['season'] = df['month'].map(season_map)\n",
        "    df = pd.get_dummies(df, columns=['season'], prefix='seas', drop_first=True)\n",
        "\n",
        "    city_center = (41.8781, -87.6298)\n",
        "    o_block_coords = (41.8080, -87.6186)\n",
        "    crime_centers = {\n",
        "        \"englewood\": (41.779, -87.641), \"west_garfield_park\": (41.880, -87.726),\n",
        "        \"austin\": (41.895, -87.772), \"humboldt_park\": (41.903, -87.701),\n",
        "    }\n",
        "\n",
        "    # Vectorized distance calculations (much faster and handles single rows)\n",
        "    coords = df[['LATITUDE', 'LONGITUDE']].values\n",
        "    df['distance_to_center'] = [geodesic(coord, city_center).km for coord in coords]\n",
        "    df['distance_to_oblock'] = [geodesic(coord, o_block_coords).km for coord in coords]\n",
        "    for name, center in crime_centers.items():\n",
        "        df[f'distance_to_{name}'] = [geodesic(coord, center).km for coord in coords]\n",
        "\n",
        "    return df\n",
        "\n",
        "df= feature_engineering(df)"
      ],
      "metadata": {
        "id": "1f6GOq64QGUA"
      },
      "execution_count": 216,
      "outputs": []
    },
    {
      "cell_type": "code",
      "source": [
        "df.columns"
      ],
      "metadata": {
        "colab": {
          "base_uri": "https://localhost:8080/"
        },
        "id": "ciSXvUQ9N00a",
        "outputId": "8c3a80aa-752e-450a-b710-e536a0319a1d"
      },
      "execution_count": 217,
      "outputs": [
        {
          "output_type": "execute_result",
          "data": {
            "text/plain": [
              "Index(['DATE  OF OCCURRENCE', ' PRIMARY DESCRIPTION', 'LATITUDE', 'LONGITUDE',\n",
              "       'Police_Group', 'parsed_date', 'hour', 'day', 'month', 'day_of_week',\n",
              "       'tod_morning', 'tod_afternoon', 'tod_evening', 'weekend', 'month_sin',\n",
              "       'month_cos', 'is_holiday', 'day_of_year', 'seas_spring', 'seas_summer',\n",
              "       'seas_winter', 'distance_to_center', 'distance_to_oblock',\n",
              "       'distance_to_englewood', 'distance_to_west_garfield_park',\n",
              "       'distance_to_austin', 'distance_to_humboldt_park'],\n",
              "      dtype='object')"
            ]
          },
          "metadata": {},
          "execution_count": 217
        }
      ]
    },
    {
      "cell_type": "code",
      "source": [
        "label_encoder = LabelEncoder()\n",
        "y = label_encoder.fit_transform(df['Police_Group'])\n",
        "\n",
        "features = ['hour', 'day', 'month_sin', 'month_cos', 'day_of_week', 'LATITUDE', 'LONGITUDE', 'weekend',\n",
        "            'tod_morning','tod_afternoon','tod_evening', 'is_holiday', 'day_of_year',\n",
        "            'seas_spring', 'seas_summer', 'seas_winter', 'distance_to_center', 'distance_to_oblock',\n",
        "            'distance_to_englewood', 'distance_to_west_garfield_park', 'distance_to_austin', 'distance_to_humboldt_park']\n",
        "\n",
        "interaction_features = []\n",
        "features_to_iterate = features[:]\n",
        "for feature1, feature2 in zip(features_to_iterate[:-1], features_to_iterate[1:]):\n",
        "    interaction_name = f\"{feature1}_{feature2}\"\n",
        "    interaction_features.append(interaction_name)\n",
        "    df[interaction_name] = df[feature1] * df[feature2]\n",
        "\n",
        "X = df[features + [col for col in df.columns if col.startswith('location_')] + interaction_features].values"
      ],
      "metadata": {
        "id": "dbvanXMJyAHu"
      },
      "execution_count": 218,
      "outputs": []
    },
    {
      "cell_type": "code",
      "source": [
        "#Split the data FIRST\n",
        "X_train, X_test, y_train, y_test = train_test_split(\n",
        "    X, y, test_size=0.2, random_state=42, stratify=y\n",
        ")\n",
        "#\n",
        "# THEN apply SMOTE only to the training data\n",
        "smote = SMOTE(random_state=42)\n",
        "X_train_res, y_train_res = smote.fit_resample(X_train, y_train)\n",
        "\n",
        "# Scale AFTER SMOTE and splitting\n",
        "scaler = StandardScaler()\n",
        "X_train_scaled = scaler.fit_transform(X_train_res)\n",
        "X_test_scaled = scaler.transform(X_test) # Use the same scaler fitted on the training data\n",
        "\n",
        "# Calculate class weights AFTER SMOTE\n",
        "class_weights = compute_class_weight('balanced', classes=np.unique(y_train_res), y=y_train_res)"
      ],
      "metadata": {
        "id": "CylSlhwh_lso"
      },
      "execution_count": 219,
      "outputs": []
    },
    {
      "cell_type": "code",
      "source": [
        "model = xgb.XGBClassifier(random_state=42, eval_metric='mlogloss')\n",
        "\n",
        "# Train the model\n",
        "print(\"Training XGBoost...\")\n",
        "model.fit(X_train_scaled, y_train_res)\n",
        "\n",
        "# Predict probabilities instead of labels\n",
        "y_prob = model.predict_proba(X_test_scaled)\n",
        "\n",
        "# Get the top-2 predicted categories for each sample\n",
        "top_2_predictions = np.argsort(y_prob, axis=1)[:, -2:]\n",
        "\n",
        "# Compare with the true labels\n",
        "top_2_correct = [\n",
        "    y_test[i] in top_2_predictions[i] for i in range(len(y_test))\n",
        "]\n",
        "\n",
        "# Calculate accuracy for top-2 predictions\n",
        "top_2_accuracy = np.mean(top_2_correct)\n",
        "\n",
        "# Classification Report for Top-1 Predictions\n",
        "y_pred = model.predict(X_test_scaled)\n",
        "report = classification_report(y_test, y_pred)\n",
        "\n",
        "# Print results\n",
        "print(f\"XGBoost Top-1 Accuracy: {accuracy_score(y_test, y_pred):.4f}\")\n",
        "print(f\"XGBoost Top-2 Accuracy: {top_2_accuracy:.4f}\")\n",
        "print(f\"XGBoost Classification Report:\\n{report}\")\n",
        "print('-' * 50)"
      ],
      "metadata": {
        "id": "9YCoOl4XyCwF",
        "colab": {
          "base_uri": "https://localhost:8080/"
        },
        "outputId": "97db652e-19ee-4d6c-b30a-9860d60b6a38"
      },
      "execution_count": 220,
      "outputs": [
        {
          "output_type": "stream",
          "name": "stdout",
          "text": [
            "Training XGBoost...\n",
            "XGBoost Top-1 Accuracy: 0.5311\n",
            "XGBoost Top-2 Accuracy: 0.7979\n",
            "XGBoost Classification Report:\n",
            "              precision    recall  f1-score   support\n",
            "\n",
            "           0       0.01      0.02      0.01        95\n",
            "           1       0.34      0.07      0.11      9226\n",
            "           2       0.57      0.87      0.69     27285\n",
            "           3       0.28      0.37      0.32      1247\n",
            "           4       0.41      0.17      0.24     12968\n",
            "\n",
            "    accuracy                           0.53     50821\n",
            "   macro avg       0.32      0.30      0.27     50821\n",
            "weighted avg       0.48      0.53      0.46     50821\n",
            "\n",
            "--------------------------------------------------\n"
          ]
        }
      ]
    },
    {
      "cell_type": "code",
      "source": [
        "def parse_date(date_str):\n",
        "    # ... (same as before)\n",
        "    for fmt in ('%m/%d/%Y %I:%M:%S %p', '%m-%d-%Y %H:%M'):\n",
        "        try:\n",
        "            return datetime.strptime(date_str, fmt)\n",
        "        except ValueError:\n",
        "            continue\n",
        "    return None"
      ],
      "metadata": {
        "id": "PHrlJWzn3UbR"
      },
      "execution_count": 221,
      "outputs": []
    },
    {
      "cell_type": "code",
      "source": [
        "def predict_top_2_crimes(model, scaler, label_encoder, user_date, user_latitude, user_longitude):\n",
        "    try:\n",
        "        parsed_date = parse_date(user_date)\n",
        "    except ValueError:\n",
        "        print(\"Invalid date format.\")\n",
        "        return None\n",
        "\n",
        "    if parsed_date is None:\n",
        "        print(\"Invalid date format.\")\n",
        "        return None\n",
        "\n",
        "    user_data = pd.DataFrame({\n",
        "        'DATE\\xa0 OF OCCURRENCE': [user_date],\n",
        "        'LATITUDE': [user_latitude],\n",
        "        'LONGITUDE': [user_longitude],\n",
        "        'parsed_date': [parsed_date]\n",
        "    })\n",
        "\n",
        "    user_data['hour'] = user_data['parsed_date'].dt.hour\n",
        "    user_data['day'] = user_data['parsed_date'].dt.day\n",
        "    user_data['month'] = user_data['parsed_date'].dt.month\n",
        "    user_data['day_of_week'] = user_data['parsed_date'].dt.dayofweek\n",
        "    user_data['day_of_year'] = user_data['parsed_date'].dt.dayofyear\n",
        "\n",
        "    user_data = feature_engineering(user_data)\n",
        "\n",
        "    features = ['hour', 'day', 'month_sin', 'month_cos', 'day_of_week', 'LATITUDE', 'LONGITUDE', 'weekend',\n",
        "                'tod_morning','tod_afternoon','tod_evening', 'is_holiday', 'day_of_year',\n",
        "                'seas_spring', 'seas_summer', 'seas_winter', 'distance_to_center', 'distance_to_oblock',\n",
        "                'distance_to_englewood', 'distance_to_west_garfield_park', 'distance_to_austin', 'distance_to_humboldt_park']\n",
        "\n",
        "    for feature in features:\n",
        "        if feature not in user_data.columns:\n",
        "            #print(f\"Feature {feature} is missing. Imputing with 0.\")\n",
        "            user_data[feature] = 0\n",
        "\n",
        "    interaction_features = []\n",
        "    features_to_iterate = features[:]\n",
        "    for feature1, feature2 in zip(features_to_iterate[:-1], features_to_iterate[1:]):\n",
        "        interaction_name = f\"{feature1}_{feature2}\"\n",
        "        interaction_features.append(interaction_name)\n",
        "        user_data[interaction_name] = user_data[feature1] * user_data[feature2]\n",
        "\n",
        "    # Handle missing columns gracefully (IMPUTATION)\n",
        "    for feature in features + interaction_features:\n",
        "        if feature not in user_data.columns:\n",
        "            user_data[feature] = 0\n",
        "\n",
        "    X = user_data[features + interaction_features].values\n",
        "    X_scaled = scaler.transform(X)\n",
        "\n",
        "    y_prob = model.predict_proba(X_scaled)\n",
        "    top_2_indices = np.argsort(y_prob, axis=1)[0, -2:][::-1]\n",
        "    top_2_crimes = label_encoder.inverse_transform(top_2_indices)\n",
        "\n",
        "    return top_2_crimes"
      ],
      "metadata": {
        "id": "Qd4WHaORF4QZ"
      },
      "execution_count": 234,
      "outputs": []
    },
    {
      "cell_type": "code",
      "source": [
        "user_date = input(\"Enter date (MM/DD/YYYY HH:MM:SS AM/PM or MM-DD-YYYY HH:MM): \")\n",
        "user_latitude = float(input(\"Enter latitude: \"))\n",
        "user_longitude = float(input(\"Enter longitude: \"))\n",
        "\n",
        "import folium\n",
        "\n",
        "# Chicago coordinates\n",
        "chicago_latitude = 41.8781\n",
        "chicago_longitude = -87.6298\n",
        "\n",
        "# Chicago coordinates\n",
        "chicago_latitude = 41.8781\n",
        "chicago_longitude = -87.6298\n",
        "\n",
        "# Create a map centered on Chicago\n",
        "mymap = folium.Map(location=[chicago_latitude, chicago_longitude], zoom_start=12)\n",
        "\n",
        "# Add a marker for the user input location\n",
        "folium.Marker(\n",
        "    location=[user_latitude, user_longitude],\n",
        "    popup=f\"Location: {user_latitude}, {user_longitude}\\nDate: {user_date}\"\n",
        ").add_to(mymap)\n",
        "\n",
        "# Display the map inline in Jupyter or a compatible environment\n",
        "display(mymap)\n",
        "\n",
        "\n",
        "top_2_predictions = predict_top_2_crimes(model, scaler, label_encoder, user_date, user_latitude, user_longitude)\n",
        "\n",
        "if top_2_predictions is not None:\n",
        "    print(\"Recommended Police Force:\")\n",
        "    print(f\"1. {top_2_predictions[0]}\")\n",
        "    print(f\"2. {top_2_predictions[1]}\")"
      ],
      "metadata": {
        "colab": {
          "base_uri": "https://localhost:8080/",
          "height": 745
        },
        "id": "B7xVVOwoHKJA",
        "outputId": "2dab7918-839a-49f1-b9a7-1f79722687f6"
      },
      "execution_count": 236,
      "outputs": [
        {
          "name": "stdout",
          "output_type": "stream",
          "text": [
            "Enter date (MM/DD/YYYY HH:MM:SS AM/PM or MM-DD-YYYY HH:MM): 4/13/2025  5:45:00 PM\n",
            "Enter latitude: 41.8781\n",
            "Enter longitude: -87.6298\n"
          ]
        },
        {
          "output_type": "display_data",
          "data": {
            "text/plain": [
              "<folium.folium.Map at 0x78223c9406d0>"
            ],
            "text/html": [
              "<div style=\"width:100%;\"><div style=\"position:relative;width:100%;height:0;padding-bottom:60%;\"><span style=\"color:#565656\">Make this Notebook Trusted to load map: File -> Trust Notebook</span><iframe srcdoc=\"&lt;!DOCTYPE html&gt;\n",
              "&lt;html&gt;\n",
              "&lt;head&gt;\n",
              "    \n",
              "    &lt;meta http-equiv=&quot;content-type&quot; content=&quot;text/html; charset=UTF-8&quot; /&gt;\n",
              "    \n",
              "        &lt;script&gt;\n",
              "            L_NO_TOUCH = false;\n",
              "            L_DISABLE_3D = false;\n",
              "        &lt;/script&gt;\n",
              "    \n",
              "    &lt;style&gt;html, body {width: 100%;height: 100%;margin: 0;padding: 0;}&lt;/style&gt;\n",
              "    &lt;style&gt;#map {position:absolute;top:0;bottom:0;right:0;left:0;}&lt;/style&gt;\n",
              "    &lt;script src=&quot;https://cdn.jsdelivr.net/npm/leaflet@1.9.3/dist/leaflet.js&quot;&gt;&lt;/script&gt;\n",
              "    &lt;script src=&quot;https://code.jquery.com/jquery-3.7.1.min.js&quot;&gt;&lt;/script&gt;\n",
              "    &lt;script src=&quot;https://cdn.jsdelivr.net/npm/bootstrap@5.2.2/dist/js/bootstrap.bundle.min.js&quot;&gt;&lt;/script&gt;\n",
              "    &lt;script src=&quot;https://cdnjs.cloudflare.com/ajax/libs/Leaflet.awesome-markers/2.0.2/leaflet.awesome-markers.js&quot;&gt;&lt;/script&gt;\n",
              "    &lt;link rel=&quot;stylesheet&quot; href=&quot;https://cdn.jsdelivr.net/npm/leaflet@1.9.3/dist/leaflet.css&quot;/&gt;\n",
              "    &lt;link rel=&quot;stylesheet&quot; href=&quot;https://cdn.jsdelivr.net/npm/bootstrap@5.2.2/dist/css/bootstrap.min.css&quot;/&gt;\n",
              "    &lt;link rel=&quot;stylesheet&quot; href=&quot;https://netdna.bootstrapcdn.com/bootstrap/3.0.0/css/bootstrap-glyphicons.css&quot;/&gt;\n",
              "    &lt;link rel=&quot;stylesheet&quot; href=&quot;https://cdn.jsdelivr.net/npm/@fortawesome/fontawesome-free@6.2.0/css/all.min.css&quot;/&gt;\n",
              "    &lt;link rel=&quot;stylesheet&quot; href=&quot;https://cdnjs.cloudflare.com/ajax/libs/Leaflet.awesome-markers/2.0.2/leaflet.awesome-markers.css&quot;/&gt;\n",
              "    &lt;link rel=&quot;stylesheet&quot; href=&quot;https://cdn.jsdelivr.net/gh/python-visualization/folium/folium/templates/leaflet.awesome.rotate.min.css&quot;/&gt;\n",
              "    \n",
              "            &lt;meta name=&quot;viewport&quot; content=&quot;width=device-width,\n",
              "                initial-scale=1.0, maximum-scale=1.0, user-scalable=no&quot; /&gt;\n",
              "            &lt;style&gt;\n",
              "                #map_8a646e9dc28fdf573eb9d74cd2a2a9da {\n",
              "                    position: relative;\n",
              "                    width: 100.0%;\n",
              "                    height: 100.0%;\n",
              "                    left: 0.0%;\n",
              "                    top: 0.0%;\n",
              "                }\n",
              "                .leaflet-container { font-size: 1rem; }\n",
              "            &lt;/style&gt;\n",
              "        \n",
              "&lt;/head&gt;\n",
              "&lt;body&gt;\n",
              "    \n",
              "    \n",
              "            &lt;div class=&quot;folium-map&quot; id=&quot;map_8a646e9dc28fdf573eb9d74cd2a2a9da&quot; &gt;&lt;/div&gt;\n",
              "        \n",
              "&lt;/body&gt;\n",
              "&lt;script&gt;\n",
              "    \n",
              "    \n",
              "            var map_8a646e9dc28fdf573eb9d74cd2a2a9da = L.map(\n",
              "                &quot;map_8a646e9dc28fdf573eb9d74cd2a2a9da&quot;,\n",
              "                {\n",
              "                    center: [41.8781, -87.6298],\n",
              "                    crs: L.CRS.EPSG3857,\n",
              "                    ...{\n",
              "  &quot;zoom&quot;: 12,\n",
              "  &quot;zoomControl&quot;: true,\n",
              "  &quot;preferCanvas&quot;: false,\n",
              "}\n",
              "\n",
              "                }\n",
              "            );\n",
              "\n",
              "            \n",
              "\n",
              "        \n",
              "    \n",
              "            var tile_layer_cc4229117704dc7883e5c883680091b6 = L.tileLayer(\n",
              "                &quot;https://tile.openstreetmap.org/{z}/{x}/{y}.png&quot;,\n",
              "                {\n",
              "  &quot;minZoom&quot;: 0,\n",
              "  &quot;maxZoom&quot;: 19,\n",
              "  &quot;maxNativeZoom&quot;: 19,\n",
              "  &quot;noWrap&quot;: false,\n",
              "  &quot;attribution&quot;: &quot;\\u0026copy; \\u003ca href=\\&quot;https://www.openstreetmap.org/copyright\\&quot;\\u003eOpenStreetMap\\u003c/a\\u003e contributors&quot;,\n",
              "  &quot;subdomains&quot;: &quot;abc&quot;,\n",
              "  &quot;detectRetina&quot;: false,\n",
              "  &quot;tms&quot;: false,\n",
              "  &quot;opacity&quot;: 1,\n",
              "}\n",
              "\n",
              "            );\n",
              "        \n",
              "    \n",
              "            tile_layer_cc4229117704dc7883e5c883680091b6.addTo(map_8a646e9dc28fdf573eb9d74cd2a2a9da);\n",
              "        \n",
              "    \n",
              "            var marker_de9ff8b5b16476f1918ef23279e654b0 = L.marker(\n",
              "                [41.8781, -87.6298],\n",
              "                {\n",
              "}\n",
              "            ).addTo(map_8a646e9dc28fdf573eb9d74cd2a2a9da);\n",
              "        \n",
              "    \n",
              "        var popup_3bfc6664bc0ff0b224b082c88dd6165b = L.popup({\n",
              "  &quot;maxWidth&quot;: &quot;100%&quot;,\n",
              "});\n",
              "\n",
              "        \n",
              "            \n",
              "                var html_64c7f90eb5b04e79a2eae057fbc19e5d = $(`&lt;div id=&quot;html_64c7f90eb5b04e79a2eae057fbc19e5d&quot; style=&quot;width: 100.0%; height: 100.0%;&quot;&gt;Location: 41.8781, -87.6298 Date: 4/13/2025  5:45:00 PM&lt;/div&gt;`)[0];\n",
              "                popup_3bfc6664bc0ff0b224b082c88dd6165b.setContent(html_64c7f90eb5b04e79a2eae057fbc19e5d);\n",
              "            \n",
              "        \n",
              "\n",
              "        marker_de9ff8b5b16476f1918ef23279e654b0.bindPopup(popup_3bfc6664bc0ff0b224b082c88dd6165b)\n",
              "        ;\n",
              "\n",
              "        \n",
              "    \n",
              "&lt;/script&gt;\n",
              "&lt;/html&gt;\" style=\"position:absolute;width:100%;height:100%;left:0;top:0;border:none !important;\" allowfullscreen webkitallowfullscreen mozallowfullscreen></iframe></div></div>"
            ]
          },
          "metadata": {}
        },
        {
          "output_type": "stream",
          "name": "stdout",
          "text": [
            "Recommended Police Force:\n",
            "1. Patrol & Response\n",
            "2. Violent Crimes\n"
          ]
        }
      ]
    },
    {
      "cell_type": "code",
      "source": [],
      "metadata": {
        "id": "yunnRbS_kBS7"
      },
      "execution_count": null,
      "outputs": []
    }
  ]
}